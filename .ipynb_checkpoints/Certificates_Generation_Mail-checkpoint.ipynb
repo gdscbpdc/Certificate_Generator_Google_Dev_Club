{
 "cells": [
  {
   "cell_type": "markdown",
   "metadata": {},
   "source": [
    "# GDSC Certificates Generation + Mail\n",
    "\n",
    "Steps\n",
    "1. Update names string\n",
    "2. Update emails string\n",
    "3. Give answers for the required prompts\n",
    "\n",
    "Made with Python <3 by Ahmed Thahir"
   ]
  },
  {
   "cell_type": "code",
   "execution_count": 1,
   "metadata": {},
   "outputs": [],
   "source": [
    "names = \"\"\"\n",
    "Ahmed Thahir\n",
    "\"\"\""
   ]
  },
  {
   "cell_type": "code",
   "execution_count": 2,
   "metadata": {},
   "outputs": [],
   "source": [
    "emails = \"\"\"\n",
    "f20200198@dubai.bits-pilani.ac.in\n",
    "\"\"\""
   ]
  },
  {
   "cell_type": "code",
   "execution_count": 3,
   "metadata": {},
   "outputs": [
    {
     "name": "stdout",
     "output_type": "stream",
     "text": [
      "Event Name ensetr\n",
      "Event Date (YYYY-MM-DD) 2022-10-10\n"
     ]
    }
   ],
   "source": [
    "event_name = input(\"Event Name \")\n",
    "event_date = input(\"Event Date (YYYY-MM-DD) \")\n",
    "\n",
    "from datetime import datetime\n",
    "event_date = datetime.strptime(event_date, '%Y-%m-%d').strftime(\"%b %d, %Y\")"
   ]
  },
  {
   "cell_type": "code",
   "execution_count": 4,
   "metadata": {},
   "outputs": [
    {
     "name": "stdout",
     "output_type": "stream",
     "text": [
      "\n",
      "What kind of event is this?\n",
      "\n",
      "Enter 'W' for Workshop\n",
      "or    'C' for Competition\n",
      "W\n"
     ]
    }
   ],
   "source": [
    "def input_event_type():\n",
    "    event_type = input(\"\"\"\n",
    "What kind of event is this?\n",
    "\n",
    "Enter 'W' for Workshop\n",
    "or    'C' for Competition\n",
    "\"\"\")\n",
    "    \n",
    "    if (event_type not in ['W', 'C']):\n",
    "        print(\"Select 'W' or 'C'\")\n",
    "        event_type = input_event_type()\n",
    "    return event_type\n",
    "    \n",
    "event_type = input_event_type()"
   ]
  },
  {
   "cell_type": "code",
   "execution_count": 5,
   "metadata": {},
   "outputs": [],
   "source": [
    "names = list(filter(None, names.split(\"\\n\")))\n",
    "emails = list(filter(None, emails.split(\"\\n\")))\n",
    "\n",
    "if(len(names)!=len(emails)):\n",
    "    raise ValueError('Unequal number of names and emails')"
   ]
  },
  {
   "cell_type": "code",
   "execution_count": 6,
   "metadata": {},
   "outputs": [
    {
     "name": "stdout",
     "output_type": "stream",
     "text": [
      "Password: ········\n"
     ]
    }
   ],
   "source": [
    "from getpass import getpass\n",
    "sender_password = getpass(\"Password: \")"
   ]
  },
  {
   "cell_type": "code",
   "execution_count": 7,
   "metadata": {},
   "outputs": [],
   "source": [
    "sender_mail = \"gdsc@dubai.bits-pilani.ac.in\""
   ]
  },
  {
   "cell_type": "code",
   "execution_count": 8,
   "metadata": {},
   "outputs": [],
   "source": [
    "# just check if password is right\n",
    "import smtplib\n",
    "with smtplib.SMTP_SSL(\"smtp.gmail.com\", 465) as server:\n",
    "    server.login(sender_mail, sender_password)"
   ]
  },
  {
   "cell_type": "markdown",
   "metadata": {},
   "source": [
    "# Generate Certificates"
   ]
  },
  {
   "cell_type": "code",
   "execution_count": 9,
   "metadata": {},
   "outputs": [],
   "source": [
    "from PIL import Image, ImageDraw, ImageFont\n",
    "\n",
    "img = Image.open('template.png')\n",
    "W, H = img.size"
   ]
  },
  {
   "cell_type": "code",
   "execution_count": 10,
   "metadata": {},
   "outputs": [
    {
     "name": "stderr",
     "output_type": "stream",
     "text": [
      "<ipython-input-10-7f3614c7ac0e>:21: DeprecationWarning: textsize is deprecated and will be removed in Pillow 10 (2023-07-01). Use textbbox or textlength instead.\n",
      "  w, h = draw.textsize(title, title_font)\n",
      "<ipython-input-10-7f3614c7ac0e>:37: DeprecationWarning: textsize is deprecated and will be removed in Pillow 10 (2023-07-01). Use textbbox or textlength instead.\n",
      "  w, h = draw.textsize(text, text_font)\n"
     ]
    }
   ],
   "source": [
    "def draw_event_details(img, event_type, event_name, event_date):\n",
    "    im = img.copy()\n",
    "\n",
    "    \n",
    "    title = \"CERTIFICATE OF \"\n",
    "    text = \"has \"\n",
    "    if event_type == 'W':\n",
    "        # Workshop\n",
    "        title += \"COMPLETION\"\n",
    "        text += \"successfully completed the workshop -\"\n",
    "    elif event_type == 'C':\n",
    "        # Competition\n",
    "        title += \"PARTICIPATION\"\n",
    "        text += \"participated in\"\n",
    "    \n",
    "    text += f\" {event_name}\\nheld on {event_date}\"\n",
    "    \n",
    "    # title\n",
    "    title_font = ImageFont.truetype(\"fonts/Product Sans Bold.ttf\", W//30)\n",
    "    draw = ImageDraw.Draw(im)\n",
    "    w, h = draw.textsize(title, title_font)\n",
    "    \n",
    "    draw.text(\n",
    "        (\n",
    "            (W - w)//2,\n",
    "            (H - h*0.8)/3.5\n",
    "        ),\n",
    "        title,\n",
    "        font = title_font,\n",
    "        align = \"center\",\n",
    "        fill = (235, 66, 52)\n",
    "    )\n",
    "    \n",
    "    # text\n",
    "    text_font = ImageFont.truetype(\"fonts/Product Sans Regular.ttf\", W//45)\n",
    "    draw = ImageDraw.Draw(im)\n",
    "    w, h = draw.textsize(text, text_font)\n",
    "    \n",
    "    draw.text(\n",
    "        (\n",
    "            (W - w)/2,\n",
    "            (H - h*0.8)/1.5\n",
    "        ),\n",
    "        text,\n",
    "        font = text_font,\n",
    "        align = \"center\",\n",
    "        fill = (90, 90, 90)\n",
    "    )\n",
    "\n",
    "    if im.mode == 'RGBA':\n",
    "        im = im.convert('RGB')\n",
    "    return im\n",
    "\n",
    "img = draw_event_details(img, event_type, event_name, event_date)\n",
    "# img.show()"
   ]
  },
  {
   "cell_type": "code",
   "execution_count": 11,
   "metadata": {},
   "outputs": [
    {
     "name": "stderr",
     "output_type": "stream",
     "text": [
      "<ipython-input-11-1e9d2592ec10>:6: DeprecationWarning: textsize is deprecated and will be removed in Pillow 10 (2023-07-01). Use textbbox or textlength instead.\n",
      "  w, h = draw.textsize(name, font)\n"
     ]
    }
   ],
   "source": [
    "def draw_name(img, name, y_offset=0):\n",
    "    im = img.copy()\n",
    "    font = ImageFont.truetype(\"fonts/Product Sans Bold.ttf\", W//18)\n",
    "    \n",
    "    draw = ImageDraw.Draw(im)\n",
    "    w, h = draw.textsize(name, font)   \n",
    "    \n",
    "    draw.text(\n",
    "        (\n",
    "            (W - w)//2,\n",
    "            (H - h*0.8)//2 + y_offset\n",
    "        ),\n",
    "        name,\n",
    "        font=font,\n",
    "        align=\"center\",\n",
    "        fill=(50, 50, 50)\n",
    "    )\n",
    "\n",
    "    #im.show()\n",
    "\n",
    "    if im.mode == 'RGBA':\n",
    "      im = im.convert('RGB')\n",
    "\n",
    "    im.save(\"output/\" + name + \".pdf\")\n",
    "\n",
    "for name in names:\n",
    "    draw_name(img, name)"
   ]
  },
  {
   "cell_type": "markdown",
   "metadata": {},
   "source": [
    "# Send Mails"
   ]
  },
  {
   "cell_type": "code",
   "execution_count": 12,
   "metadata": {},
   "outputs": [],
   "source": [
    "from email.message import EmailMessage\n",
    "import imghdr"
   ]
  },
  {
   "cell_type": "code",
   "execution_count": 13,
   "metadata": {},
   "outputs": [],
   "source": [
    "def gen_message(name, receiver_mail, sender_mail):\n",
    "    msg = EmailMessage()\n",
    "    msg['From'] = sender_mail\n",
    "    msg['To'] = receiver_mail\n",
    "    \n",
    "    first_name = name.split(\" \")[0]\n",
    "    msg['Subject'] = f\"{first_name} - GDSC {event_name} Certificate\"\n",
    "\n",
    "    body = f\"\"\"Hi there {first_name}!\n",
    "Here is your certificate for attending {event_name} event by Google Developer Student Clubs held on {event_date}.\n",
    "We hope you enjoyed it, and can't wait to see you at future events as well.\n",
    "\n",
    "Regards\n",
    "GDSC Team\"\"\"\n",
    "    \n",
    "    msg.set_content(body)\n",
    "    \n",
    "    file_name = \"output/\" + name + \".pdf\"\n",
    "    with open(file_name, 'rb') as content_file:\n",
    "        content = content_file.read()\n",
    "        msg.add_attachment(\n",
    "            content,\n",
    "            maintype='application/pdf',\n",
    "            subtype='pdf',\n",
    "            filename = name + f\" GDSC {event_name} Certificate.pdf\"\n",
    "        )\n",
    "    \n",
    "    return msg"
   ]
  },
  {
   "cell_type": "code",
   "execution_count": 14,
   "metadata": {
    "scrolled": true
   },
   "outputs": [],
   "source": [
    "msgs = []\n",
    "for name, email in zip(names, emails):\n",
    "    msgs.append(gen_message(name, email, sender_mail))"
   ]
  },
  {
   "cell_type": "code",
   "execution_count": 15,
   "metadata": {
    "scrolled": true
   },
   "outputs": [],
   "source": [
    "with smtplib.SMTP_SSL(\"smtp.gmail.com\", 465) as server:\n",
    "    server.login(sender_mail, sender_password)\n",
    "\n",
    "    for msg in msgs:\n",
    "        server.send_message(msg)"
   ]
  }
 ],
 "metadata": {
  "kernelspec": {
   "display_name": "Python 3",
   "language": "python",
   "name": "python3"
  },
  "language_info": {
   "codemirror_mode": {
    "name": "ipython",
    "version": 3
   },
   "file_extension": ".py",
   "mimetype": "text/x-python",
   "name": "python",
   "nbconvert_exporter": "python",
   "pygments_lexer": "ipython3",
   "version": "3.8.5"
  }
 },
 "nbformat": 4,
 "nbformat_minor": 5
}
