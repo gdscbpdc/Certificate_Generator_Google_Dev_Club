{
  "cells": [
    {
      "cell_type": "markdown",
      "metadata": {
        "id": "view-in-github",
        "colab_type": "text"
      },
      "source": [
        "<a href=\"https://colab.research.google.com/github/AhmedThahir/Certificate_Generator_Google_Dev_Club/blob/main/Certificates_Generation_Mail.ipynb\" target=\"_parent\"><img src=\"https://colab.research.google.com/assets/colab-badge.svg\" alt=\"Open In Colab\"/></a>"
      ]
    },
    {
      "cell_type": "markdown",
      "metadata": {
        "id": "BoPrPU3J-RFH"
      },
      "source": [
        "# GDSC Certificates Generation + Mail\n",
        "\n",
        "***Read the instructions before proceeding.*** There have been changes in this script and the backend.\n",
        "\n",
        "---\n",
        "\n",
        "## Steps\n",
        "\n",
        "1. Login with GDSC Mail\n",
        "2. Run All Cells\n",
        "3. Allow GDrive mounting authentication (if asked)\n",
        "4. Verify the example output\n",
        "5. Enter password to confirm\n",
        "\n",
        "---\n",
        "\n",
        "Made with Python and <3 by Ahmed Thahir"
      ],
      "id": "BoPrPU3J-RFH"
    },
    {
      "cell_type": "markdown",
      "source": [
        "# Querying Data"
      ],
      "metadata": {
        "id": "iH9kWcyUlr9g"
      },
      "id": "iH9kWcyUlr9g"
    },
    {
      "cell_type": "code",
      "execution_count": 109,
      "metadata": {
        "id": "WG5ghej4Lx9A"
      },
      "outputs": [],
      "source": [
        "import pandas as pd"
      ],
      "id": "WG5ghej4Lx9A"
    },
    {
      "cell_type": "code",
      "execution_count": 110,
      "metadata": {
        "id": "a98C_ehvM0bJ"
      },
      "outputs": [],
      "source": [
        "def gsheet(spreadsheet_id, sheet_id=None, sheet_name=None):\n",
        "  if sheet_id:\n",
        "    return f\"https://docs.google.com/spreadsheets/d/{spreadsheet_id}/gviz/tq?tqx=out:csv&gid={sheet_id}\"\n",
        "  elif sheet_name:\n",
        "    return f\"https://docs.google.com/spreadsheets/d/{spreadsheet_id}/gviz/tq?tqx=out:csv&sheet={sheet_name}\"\n",
        "  else:\n",
        "    return None"
      ],
      "id": "a98C_ehvM0bJ"
    },
    {
      "cell_type": "code",
      "execution_count": 111,
      "metadata": {
        "colab": {
          "base_uri": "https://localhost:8080/"
        },
        "id": "54xyNlgPMCWh",
        "outputId": "f1876f7c-82ea-446d-c8e7-106c3cb50c99"
      },
      "outputs": [
        {
          "output_type": "stream",
          "name": "stdout",
          "text": [
            "Summary of mails to be sent\n"
          ]
        },
        {
          "output_type": "execute_result",
          "data": {
            "text/plain": [
              "Event\n",
              "Inter-University Hackathon    1\n",
              "Name: Name, dtype: int64"
            ]
          },
          "metadata": {},
          "execution_count": 111
        }
      ],
      "source": [
        "df = pd.read_csv(gsheet(\"1BnzmkWo0EH8subvl_g7FQZ_6Nc8MaiA81gQ25HEfHM0\", sheet_id=2041472620))\n",
        "df = df.drop_duplicates()\n",
        "# df = pd.read_csv(gsheet(\"1BnzmkWo0EH8subvl_g7FQZ_6Nc8MaiA81gQ25HEfHM0\", sheet_name = \"Send_Certificate\"))\n",
        "\n",
        "List = df.count()\n",
        "flag = all(element == List[0] for element in List)\n",
        "\n",
        "if flag != 1:\n",
        "  print(\"Missing values!\")\n",
        "  exit()\n",
        "\n",
        "print(\"Summary of mails to be sent\")\n",
        "df.groupby(\"Event\")[\"Name\"].count()"
      ],
      "id": "54xyNlgPMCWh"
    },
    {
      "cell_type": "code",
      "source": [
        "from datetime import datetime\n",
        "\n",
        "def pretty_date(date):\n",
        "  return datetime.strptime(date, '%Y-%m-%d').strftime('%b %d, %Y')"
      ],
      "metadata": {
        "id": "-v-X9KfTjpA_"
      },
      "id": "-v-X9KfTjpA_",
      "execution_count": 112,
      "outputs": []
    },
    {
      "cell_type": "markdown",
      "metadata": {
        "id": "OKfm9rJz-RFX"
      },
      "source": [
        "# Generate Certificates"
      ],
      "id": "OKfm9rJz-RFX"
    },
    {
      "cell_type": "code",
      "execution_count": 113,
      "metadata": {
        "colab": {
          "base_uri": "https://localhost:8080/"
        },
        "id": "X1CH8Nnw-VJY",
        "outputId": "739289be-3101-43c1-c843-54e9163e4c9b"
      },
      "outputs": [
        {
          "output_type": "stream",
          "name": "stdout",
          "text": [
            "Drive already mounted at /content/drive; to attempt to forcibly remount, call drive.mount(\"/content/drive\", force_remount=True).\n"
          ]
        }
      ],
      "source": [
        "from google.colab import drive\n",
        "drive.mount('/content/drive')"
      ],
      "id": "X1CH8Nnw-VJY"
    },
    {
      "cell_type": "code",
      "execution_count": 114,
      "metadata": {
        "id": "GJIsZc3fETkI"
      },
      "outputs": [],
      "source": [
        "folder = \"/content/drive/MyDrive/GDSC/Admin/GDSC_Certificates\"\n",
        "\n",
        "fonts_folder = f\"{folder}/fonts\"\n",
        "\n",
        "import os\n",
        "output_folder = f'{folder}/output'\n",
        "if not os.path.exists(output_folder):\n",
        "    os.makedirs(output_folder)"
      ],
      "id": "GJIsZc3fETkI"
    },
    {
      "cell_type": "code",
      "execution_count": 115,
      "metadata": {
        "id": "Z2vbY0Mo-RFY"
      },
      "outputs": [],
      "source": [
        "from PIL import Image, ImageDraw, ImageFont\n",
        "\n",
        "img = Image.open(f'{folder}/template.png')\n",
        "W, H = img.size"
      ],
      "id": "Z2vbY0Mo-RFY"
    },
    {
      "cell_type": "code",
      "execution_count": 116,
      "metadata": {
        "colab": {
          "base_uri": "https://localhost:8080/"
        },
        "id": "kOjSOqCJ-RFY",
        "outputId": "857c1533-4a94-4f32-965a-5a76a4d75f44"
      },
      "outputs": [
        {
          "output_type": "execute_result",
          "data": {
            "text/plain": [
              "0    None\n",
              "dtype: object"
            ]
          },
          "metadata": {},
          "execution_count": 116
        }
      ],
      "source": [
        "def draw_event_details(event, img = img):\n",
        "    im = img.copy()\n",
        "    \n",
        "    title = \"CERTIFICATE OF \"\n",
        "    text = \"has \"\n",
        "    if event[\"Type\"] == 'Workshop':\n",
        "        # Workshop\n",
        "        title += \"COMPLETION\"\n",
        "        text += \"successfully completed the workshop -\"\n",
        "    elif event[\"Type\"] == 'Competition':\n",
        "        # Competition\n",
        "        title += \"PARTICIPATION\"\n",
        "        text += \"participated in the\"\n",
        "    \n",
        "    text += f\" {event['Event']}\\nheld on {pretty_date(event['Date'])}\"\n",
        "    \n",
        "    # title\n",
        "    title_font = ImageFont.truetype(f\"{fonts_folder}/Product Sans Bold.ttf\", W//30)\n",
        "    draw = ImageDraw.Draw(im)\n",
        "    w, h = draw.textsize(title, title_font)\n",
        "    \n",
        "    draw.text(\n",
        "        (\n",
        "            (W - w)//2,\n",
        "            (H - h*0.8)/3.5\n",
        "        ),\n",
        "        title,\n",
        "        font = title_font,\n",
        "        align = \"center\",\n",
        "        fill = (235, 66, 52)\n",
        "    )\n",
        "    \n",
        "    # text\n",
        "    text_font = ImageFont.truetype(f\"{fonts_folder}/Product Sans Regular.ttf\", W//45)\n",
        "    draw = ImageDraw.Draw(im)\n",
        "    w, h = draw.textsize(text, text_font)\n",
        "    \n",
        "    draw.text(\n",
        "        (\n",
        "            (W - w)/2,\n",
        "            (H - h*0.8)/1.5\n",
        "        ),\n",
        "        text,\n",
        "        font = text_font,\n",
        "        align = \"center\",\n",
        "        fill = (90, 90, 90)\n",
        "    )\n",
        "\n",
        "    if im.mode == 'RGBA':\n",
        "      im = im.convert('RGB')\n",
        "\n",
        "    event_output_folder = os.path.join(output_folder, event[\"Event\"] + \"_\" + event[\"Date\"])\n",
        "\n",
        "    if not os.path.exists(event_output_folder):\n",
        "      os.makedirs(event_output_folder)\n",
        "    \n",
        "    im.save(\n",
        "        os.path.join(event_output_folder, 'template.png')\n",
        "    )\n",
        "\n",
        "unique_events = df[[\"Event\", \"Date\", \"Type\"]].drop_duplicates()\n",
        "unique_events.apply(draw_event_details, axis=1)"
      ],
      "id": "kOjSOqCJ-RFY"
    },
    {
      "cell_type": "code",
      "execution_count": 117,
      "metadata": {
        "colab": {
          "base_uri": "https://localhost:8080/"
        },
        "id": "RdhCkfHg-RFa",
        "outputId": "d71f70e4-62a4-40f9-b858-b871c03ae7a7"
      },
      "outputs": [
        {
          "output_type": "execute_result",
          "data": {
            "text/plain": [
              "0    None\n",
              "dtype: object"
            ]
          },
          "metadata": {},
          "execution_count": 117
        }
      ],
      "source": [
        "def draw_name(person, y_offset=0):\n",
        "    event_output_folder = os.path.join(output_folder, person[\"Event\"] + \"_\" + person[\"Date\"])\n",
        "\n",
        "    template = Image.open(\n",
        "        os.path.join(event_output_folder, 'template.png')\n",
        "    )\n",
        "\n",
        "    im = template.copy()\n",
        "    font = ImageFont.truetype(f\"{fonts_folder}/Product Sans Bold.ttf\", W//18)\n",
        "    \n",
        "    draw = ImageDraw.Draw(im)\n",
        "    w, h = draw.textsize(person[\"Name\"], font)   \n",
        "    \n",
        "    draw.text(\n",
        "        (\n",
        "            (W - w)//2,\n",
        "            (H - h*0.8)//2 + y_offset\n",
        "        ),\n",
        "        person[\"Name\"],\n",
        "        font=font,\n",
        "        align=\"center\",\n",
        "        fill=(50, 50, 50)\n",
        "    )\n",
        "\n",
        "    if im.mode == 'RGBA':\n",
        "      im = im.convert('RGB')\n",
        "\n",
        "    im.save(\n",
        "        os.path.join(event_output_folder, f'{person[\"Name\"]}.pdf')\n",
        "    )\n",
        "\n",
        "df.apply(draw_name, axis=1)"
      ],
      "id": "RdhCkfHg-RFa"
    },
    {
      "cell_type": "markdown",
      "metadata": {
        "id": "L26FSVcg-RFa"
      },
      "source": [
        "# Send Mails"
      ],
      "id": "L26FSVcg-RFa"
    },
    {
      "cell_type": "code",
      "execution_count": 118,
      "metadata": {
        "id": "K2XXE7AyFziZ"
      },
      "outputs": [],
      "source": [
        "sender_mail = \"gdsc@dubai.bits-pilani.ac.in\""
      ],
      "id": "K2XXE7AyFziZ"
    },
    {
      "cell_type": "code",
      "execution_count": 119,
      "metadata": {
        "id": "Q1o52F27-RFb"
      },
      "outputs": [],
      "source": [
        "from email.message import EmailMessage\n",
        "import imghdr"
      ],
      "id": "Q1o52F27-RFb"
    },
    {
      "cell_type": "code",
      "execution_count": 120,
      "metadata": {
        "id": "X1uJvv7h-RFb"
      },
      "outputs": [],
      "source": [
        "def gen_message(person, sender_mail=sender_mail):\n",
        "    msg = EmailMessage()\n",
        "    msg['From'] = sender_mail\n",
        "    msg['To'] = person[\"Email\"]\n",
        "\n",
        "    first_name = person['Name'].split(\" \")[0]\n",
        "    msg['Subject'] = f\"{first_name} - {person['Event']} Certificate\"\n",
        "\n",
        "    body = f\"\"\"Hi there {first_name}!\n",
        "Here is your certificate for attending GDSC {person['Event']} event by Google Developer Student Clubs held on {pretty_date(person['Date'])}.\n",
        "We hope you enjoyed it, and can't wait to see you at future events as well.\n",
        "\n",
        "Regards\n",
        "GDSC Team\"\"\"\n",
        "    \n",
        "    msg.set_content(body)\n",
        "    \n",
        "    event_output_folder = os.path.join(output_folder, person[\"Event\"] + \"_\" + person[\"Date\"])\n",
        "\n",
        "    file_name = os.path.join(event_output_folder, f\"{person['Name']}.pdf\")\n",
        "    with open(file_name, 'rb') as content_file:\n",
        "        content = content_file.read()\n",
        "        msg.add_attachment(\n",
        "            content,\n",
        "            maintype='application/pdf',\n",
        "            subtype='pdf',\n",
        "            filename = f\"{person['Name']} GDSC {person['Event']} Certificate.pdf\"\n",
        "        )\n",
        "    \n",
        "    return msg"
      ],
      "id": "X1uJvv7h-RFb"
    },
    {
      "cell_type": "code",
      "execution_count": 121,
      "metadata": {
        "id": "3SZ3q2ha-RFc",
        "scrolled": true
      },
      "outputs": [],
      "source": [
        "msgs = df.apply(gen_message, axis=1)"
      ],
      "id": "3SZ3q2ha-RFc"
    },
    {
      "cell_type": "markdown",
      "source": [
        "Getting a list for sending mails, instead of using apply function. This is because I want to introduce a time delay between mails to prevent frequent requests, and Google blocking us temporarily."
      ],
      "metadata": {
        "id": "qr-rBBAMmE_1"
      },
      "id": "qr-rBBAMmE_1"
    },
    {
      "cell_type": "markdown",
      "source": [
        "# Confirmation"
      ],
      "metadata": {
        "id": "2OdKhQ3kmCXH"
      },
      "id": "2OdKhQ3kmCXH"
    },
    {
      "cell_type": "code",
      "execution_count": 122,
      "metadata": {
        "colab": {
          "base_uri": "https://localhost:8080/"
        },
        "id": "n3z0j1JQ-RFX",
        "outputId": "b5a48a6e-aeef-4fa9-ffef-97820a7e3869"
      },
      "outputs": [
        {
          "name": "stdout",
          "output_type": "stream",
          "text": [
            "Content-Type: text/plain; charset=\"utf-8\"\n",
            "Content-Transfer-Encoding: quoted-printable\n",
            "\n",
            "Hi there Ahmed!\n",
            "Here is your certificate for attending GDSC Inter-University Hackathon event =\n",
            "by Google Developer Student Clubs held on Mar 19, 2023.\n",
            "We hope you enjoyed it, and can't wait to see you at future events as well.\n",
            "\n",
            "Regards\n",
            "GDSC Team\n",
            "\n",
            "<PDF will be attached below>\n",
            "\n",
            "---\n",
            "\n",
            "Do you confirm to send an email like this?\n",
            "If yes, type password: ··········\n"
          ]
        }
      ],
      "source": [
        "print(msgs[0].get_body())\n",
        "print(\"<PDF will be attached below>\")\n",
        "\n",
        "from getpass import getpass\n",
        "import smtplib\n",
        "\n",
        "def get_password(message):\n",
        "\n",
        "  sender_password = getpass(message)\n",
        "\n",
        "  try:\n",
        "    with smtplib.SMTP_SSL(\"smtp.gmail.com\", 465) as server:\n",
        "        server.login(sender_mail, sender_password)\n",
        "  except:\n",
        "    get_password(\"Incorrect password! Type again: \")\n",
        "\n",
        "  return sender_password\n",
        "\n",
        "sender_password = get_password(\"\"\"\n",
        "---\n",
        "\n",
        "Do you confirm to send an email like this?\n",
        "If yes, type password: \"\"\")"
      ],
      "id": "n3z0j1JQ-RFX"
    },
    {
      "cell_type": "code",
      "execution_count": 123,
      "metadata": {
        "id": "3nOHAzcw-RFc",
        "scrolled": true
      },
      "outputs": [],
      "source": [
        "import time\n",
        "\n",
        "with smtplib.SMTP_SSL(\"smtp.gmail.com\", 465) as server:\n",
        "    server.login(sender_mail, sender_password)\n",
        "\n",
        "    sent_count = 0\n",
        "    for msg in msgs:\n",
        "        server.send_message(msg)\n",
        "        sent_count += 1\n",
        "\n",
        "        if sent_count % 50 == 0:\n",
        "          time.sleep(100) # 100 sec delay\n",
        "        else:\n",
        "          time.sleep(1) # 1 sec delay"
      ],
      "id": "3nOHAzcw-RFc"
    },
    {
      "cell_type": "markdown",
      "source": [
        "# Deleting Output Folder once done"
      ],
      "metadata": {
        "id": "FMhu_Ojmk7UR"
      },
      "id": "FMhu_Ojmk7UR"
    },
    {
      "cell_type": "code",
      "source": [
        "import shutil\n",
        "shutil.rmtree(output_folder)"
      ],
      "metadata": {
        "id": "emwSAGGYkJkG"
      },
      "id": "emwSAGGYkJkG",
      "execution_count": 124,
      "outputs": []
    },
    {
      "cell_type": "code",
      "source": [
        "print(\"Everything Done :)\")"
      ],
      "metadata": {
        "colab": {
          "base_uri": "https://localhost:8080/"
        },
        "id": "_W9d_GwQlDn9",
        "outputId": "1dc24ae8-00fe-43b1-c310-8db472cbeea1"
      },
      "id": "_W9d_GwQlDn9",
      "execution_count": 125,
      "outputs": [
        {
          "output_type": "stream",
          "name": "stdout",
          "text": [
            "Everything Done :)\n"
          ]
        }
      ]
    }
  ],
  "metadata": {
    "colab": {
      "provenance": [],
      "include_colab_link": true
    },
    "kernelspec": {
      "display_name": "Python 3",
      "language": "python",
      "name": "python3"
    },
    "language_info": {
      "codemirror_mode": {
        "name": "ipython",
        "version": 3
      },
      "file_extension": ".py",
      "mimetype": "text/x-python",
      "name": "python",
      "nbconvert_exporter": "python",
      "pygments_lexer": "ipython3",
      "version": "3.8.5"
    }
  },
  "nbformat": 4,
  "nbformat_minor": 5
}