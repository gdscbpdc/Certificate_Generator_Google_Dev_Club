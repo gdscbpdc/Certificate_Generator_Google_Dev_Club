{
  "cells": [
    {
      "cell_type": "markdown",
      "metadata": {
        "id": "view-in-github",
        "colab_type": "text"
      },
      "source": [
        "<a href=\"https://colab.research.google.com/github/AhmedThahir/Certificate_Generator_Google_Dev_Club/blob/main/Certificates_Generation_Mail.ipynb\" target=\"_parent\"><img src=\"https://colab.research.google.com/assets/colab-badge.svg\" alt=\"Open In Colab\"/></a>"
      ]
    },
    {
      "cell_type": "markdown",
      "metadata": {
        "id": "BoPrPU3J-RFH"
      },
      "source": [
        "# GDSC Certificates Generation + Mail\n",
        "\n",
        "**Note:**\n",
        "First test for your own account\n",
        "\n",
        "Steps\n",
        "- [ ] Update names string\n",
        "- [ ] Update emails string\n",
        "- [ ] Run All Cells\n",
        "- [ ] Give answers for the required prompts\n",
        "\n",
        "Made with Python <3 by Ahmed Thahir"
      ],
      "id": "BoPrPU3J-RFH"
    },
    {
      "cell_type": "code",
      "execution_count": null,
      "metadata": {
        "id": "0XuPDBz3-RFN"
      },
      "outputs": [],
      "source": [
        "names = \"\"\"\n",
        "Ahmed Thahir\n",
        "\"\"\""
      ],
      "id": "0XuPDBz3-RFN"
    },
    {
      "cell_type": "code",
      "execution_count": null,
      "metadata": {
        "id": "EHtkgnZA-RFP"
      },
      "outputs": [],
      "source": [
        "emails = \"\"\"\n",
        "f20200198@dubai.bits-pilani.ac.in\n",
        "\"\"\""
      ],
      "id": "EHtkgnZA-RFP"
    },
    {
      "cell_type": "markdown",
      "source": [
        "# Don't Edit "
      ],
      "metadata": {
        "id": "OuLAbzx_BUeW"
      },
      "id": "OuLAbzx_BUeW"
    },
    {
      "cell_type": "code",
      "source": [
        "sender_mail = \"gdsc@dubai.bits-pilani.ac.in\""
      ],
      "metadata": {
        "id": "K2XXE7AyFziZ"
      },
      "id": "K2XXE7AyFziZ",
      "execution_count": null,
      "outputs": []
    },
    {
      "cell_type": "code",
      "execution_count": null,
      "metadata": {
        "id": "2v8spO_g-RFU"
      },
      "outputs": [],
      "source": [
        "names = list(filter(None, names.split(\"\\n\")))\n",
        "emails = list(filter(None, emails.split(\"\\n\")))\n",
        "\n",
        "if(len(names)!=len(emails)):\n",
        "    raise ValueError('Unequal number of names and emails')"
      ],
      "id": "2v8spO_g-RFU"
    },
    {
      "cell_type": "code",
      "execution_count": null,
      "metadata": {
        "colab": {
          "base_uri": "https://localhost:8080/"
        },
        "id": "MFc5uALV-RFR",
        "outputId": "b0762659-3b92-4961-ad3b-bc370fc4c370"
      },
      "outputs": [
        {
          "name": "stdout",
          "output_type": "stream",
          "text": [
            "Event Name nsetns\n",
            "Event Date (YYYY-MM-DD) 2022-10-20\n"
          ]
        }
      ],
      "source": [
        "event_name = input(\"Event Name \")\n",
        "event_date = input(\"Event Date (YYYY-MM-DD) \")\n",
        "\n",
        "from datetime import datetime\n",
        "event_date = datetime.strptime(event_date, '%Y-%m-%d').strftime(\"%b %d, %Y\")"
      ],
      "id": "MFc5uALV-RFR"
    },
    {
      "cell_type": "code",
      "execution_count": null,
      "metadata": {
        "id": "AV3S5O0q-RFT",
        "colab": {
          "base_uri": "https://localhost:8080/"
        },
        "outputId": "b7687917-9359-442f-f328-09ebbcde9a47"
      },
      "outputs": [
        {
          "name": "stdout",
          "output_type": "stream",
          "text": [
            "\n",
            "What kind of event is this?\n",
            "\n",
            "Enter 'w' for Workshop\n",
            "or    'c' for Competition\n",
            "w\n"
          ]
        }
      ],
      "source": [
        "def input_event_type():\n",
        "    event_type = input(\"\"\"\n",
        "What kind of event is this?\n",
        "\n",
        "Enter 'w' for Workshop\n",
        "or    'c' for Competition\n",
        "\"\"\")\n",
        "    \n",
        "    event_type = event_type.lower()\n",
        "\n",
        "    if (event_type not in ['w', 'c']):\n",
        "        print(\"Select 'c' or 'c'\")\n",
        "        event_type = input_event_type()\n",
        "    return event_type\n",
        "    \n",
        "event_type = input_event_type()"
      ],
      "id": "AV3S5O0q-RFT"
    },
    {
      "cell_type": "markdown",
      "metadata": {
        "id": "OKfm9rJz-RFX"
      },
      "source": [
        "# Generate Certificates"
      ],
      "id": "OKfm9rJz-RFX"
    },
    {
      "cell_type": "code",
      "source": [
        "from google.colab import drive\n",
        "drive.mount('/content/drive')"
      ],
      "metadata": {
        "id": "X1CH8Nnw-VJY",
        "colab": {
          "base_uri": "https://localhost:8080/"
        },
        "outputId": "dbfa916a-102f-4c1c-c262-aeb1e4c3fa18"
      },
      "id": "X1CH8Nnw-VJY",
      "execution_count": null,
      "outputs": [
        {
          "output_type": "stream",
          "name": "stdout",
          "text": [
            "Drive already mounted at /content/drive; to attempt to forcibly remount, call drive.mount(\"/content/drive\", force_remount=True).\n"
          ]
        }
      ]
    },
    {
      "cell_type": "code",
      "source": [
        "folder = \"/content/drive/MyDrive/GDSC/Admin/GDSC_Certificates\"\n",
        "\n",
        "fonts_folder = f\"{folder}/fonts\"\n",
        "\n",
        "import os\n",
        "output_folder = f'{folder}/output/{event_name}'\n",
        "if not os.path.exists(output_folder):\n",
        "    os.makedirs(output_folder)"
      ],
      "metadata": {
        "id": "GJIsZc3fETkI"
      },
      "id": "GJIsZc3fETkI",
      "execution_count": null,
      "outputs": []
    },
    {
      "cell_type": "code",
      "execution_count": null,
      "metadata": {
        "id": "Z2vbY0Mo-RFY"
      },
      "outputs": [],
      "source": [
        "from PIL import Image, ImageDraw, ImageFont\n",
        "\n",
        "img = Image.open(f'{folder}/template.png')\n",
        "W, H = img.size"
      ],
      "id": "Z2vbY0Mo-RFY"
    },
    {
      "cell_type": "code",
      "execution_count": null,
      "metadata": {
        "id": "kOjSOqCJ-RFY"
      },
      "outputs": [],
      "source": [
        "def draw_event_details(img, event_type, event_name, event_date):\n",
        "    im = img.copy()\n",
        "\n",
        "    \n",
        "    title = \"CERTIFICATE OF \"\n",
        "    text = \"has \"\n",
        "    if event_type == 'w':\n",
        "        # Workshop\n",
        "        title += \"COMPLETION\"\n",
        "        text += \"successfully completed the workshop -\"\n",
        "    elif event_type == 'c':\n",
        "        # Competition\n",
        "        title += \"PARTICIPATION\"\n",
        "        text += \"participated in the\"\n",
        "    \n",
        "    text += f\" {event_name}\\nheld on {event_date}\"\n",
        "    \n",
        "    # title\n",
        "    title_font = ImageFont.truetype(f\"{fonts_folder}/Product Sans Bold.ttf\", W//30)\n",
        "    draw = ImageDraw.Draw(im)\n",
        "    w, h = draw.textsize(title, title_font)\n",
        "    \n",
        "    draw.text(\n",
        "        (\n",
        "            (W - w)//2,\n",
        "            (H - h*0.8)/3.5\n",
        "        ),\n",
        "        title,\n",
        "        font = title_font,\n",
        "        align = \"center\",\n",
        "        fill = (235, 66, 52)\n",
        "    )\n",
        "    \n",
        "    # text\n",
        "    text_font = ImageFont.truetype(f\"{fonts_folder}/Product Sans Regular.ttf\", W//45)\n",
        "    draw = ImageDraw.Draw(im)\n",
        "    w, h = draw.textsize(text, text_font)\n",
        "    \n",
        "    draw.text(\n",
        "        (\n",
        "            (W - w)/2,\n",
        "            (H - h*0.8)/1.5\n",
        "        ),\n",
        "        text,\n",
        "        font = text_font,\n",
        "        align = \"center\",\n",
        "        fill = (90, 90, 90)\n",
        "    )\n",
        "\n",
        "    if im.mode == 'RGBA':\n",
        "        im = im.convert('RGB')\n",
        "    return im\n",
        "\n",
        "img = draw_event_details(img, event_type, event_name, event_date)\n",
        "# img.show()"
      ],
      "id": "kOjSOqCJ-RFY"
    },
    {
      "cell_type": "code",
      "execution_count": null,
      "metadata": {
        "id": "RdhCkfHg-RFa"
      },
      "outputs": [],
      "source": [
        "def draw_name(img, name, y_offset=0):\n",
        "    im = img.copy()\n",
        "    font = ImageFont.truetype(f\"{fonts_folder}/Product Sans Bold.ttf\", W//18)\n",
        "    \n",
        "    draw = ImageDraw.Draw(im)\n",
        "    w, h = draw.textsize(name, font)   \n",
        "    \n",
        "    draw.text(\n",
        "        (\n",
        "            (W - w)//2,\n",
        "            (H - h*0.8)//2 + y_offset\n",
        "        ),\n",
        "        name,\n",
        "        font=font,\n",
        "        align=\"center\",\n",
        "        fill=(50, 50, 50)\n",
        "    )\n",
        "\n",
        "    #im.show()\n",
        "\n",
        "    if im.mode == 'RGBA':\n",
        "      im = im.convert('RGB')\n",
        "\n",
        "    im.save(\n",
        "        os.path.join(output_folder, f\"{name}.pdf\")\n",
        "    )\n",
        "\n",
        "for name in names:\n",
        "    draw_name(img, name)"
      ],
      "id": "RdhCkfHg-RFa"
    },
    {
      "cell_type": "markdown",
      "metadata": {
        "id": "L26FSVcg-RFa"
      },
      "source": [
        "# Send Mails"
      ],
      "id": "L26FSVcg-RFa"
    },
    {
      "cell_type": "code",
      "execution_count": null,
      "metadata": {
        "id": "Q1o52F27-RFb"
      },
      "outputs": [],
      "source": [
        "from email.message import EmailMessage\n",
        "import imghdr"
      ],
      "id": "Q1o52F27-RFb"
    },
    {
      "cell_type": "code",
      "execution_count": null,
      "metadata": {
        "id": "X1uJvv7h-RFb"
      },
      "outputs": [],
      "source": [
        "def gen_message(name, receiver_mail, sender_mail):\n",
        "    msg = EmailMessage()\n",
        "    msg['From'] = sender_mail\n",
        "    msg['To'] = receiver_mail\n",
        "    \n",
        "    first_name = name.split(\" \")[0]\n",
        "    msg['Subject'] = f\"{first_name} - GDSC {event_name} Certificate\"\n",
        "\n",
        "    body = f\"\"\"Hi there {first_name}!\n",
        "Here is your certificate for attending GDSC {event_name} event by Google Developer Student Clubs held on {event_date}.\n",
        "We hope you enjoyed it, and can't wait to see you at future events as well.\n",
        "\n",
        "Regards\n",
        "GDSC Team\"\"\"\n",
        "    \n",
        "    msg.set_content(body)\n",
        "    \n",
        "    file_name = os.path.join(output_folder, f\"{name}.pdf\")\n",
        "    with open(file_name, 'rb') as content_file:\n",
        "        content = content_file.read()\n",
        "        msg.add_attachment(\n",
        "            content,\n",
        "            maintype='application/pdf',\n",
        "            subtype='pdf',\n",
        "            filename = name + f\" GDSC {event_name} Certificate.pdf\"\n",
        "        )\n",
        "    \n",
        "    return msg"
      ],
      "id": "X1uJvv7h-RFb"
    },
    {
      "cell_type": "code",
      "execution_count": null,
      "metadata": {
        "scrolled": true,
        "id": "3SZ3q2ha-RFc"
      },
      "outputs": [],
      "source": [
        "msgs = []\n",
        "for name, email in zip(names, emails):\n",
        "    msgs.append(gen_message(name, email, sender_mail))"
      ],
      "id": "3SZ3q2ha-RFc"
    },
    {
      "cell_type": "code",
      "execution_count": null,
      "metadata": {
        "id": "n3z0j1JQ-RFX",
        "colab": {
          "base_uri": "https://localhost:8080/",
          "height": 693
        },
        "outputId": "1cad115a-2dab-40d2-c2fa-d9e2e08674e4"
      },
      "outputs": [
        {
          "name": "stdout",
          "output_type": "stream",
          "text": [
            "Content-Type: text/plain; charset=\"utf-8\"\n",
            "Content-Transfer-Encoding: quoted-printable\n",
            "\n",
            "Hi there Ahmed!\n",
            "Here is your certificate for attending GDSC nsetns event by Google Developer =\n",
            "Student Clubs held on Oct 20, 2022.\n",
            "We hope you enjoyed it, and can't wait to see you at future events as well.\n",
            "\n",
            "Regards\n",
            "GDSC Team\n",
            "\n",
            "<PDF will be attached below>\n",
            "\n",
            "---\n",
            "\n",
            "Do you confirm to send an email like this?\n",
            "If yes, type password\n",
            "··········\n"
          ]
        },
        {
          "output_type": "error",
          "ename": "KeyboardInterrupt",
          "evalue": "ignored",
          "traceback": [
            "\u001b[0;31m---------------------------------------------------------------------------\u001b[0m",
            "\u001b[0;31mKeyboardInterrupt\u001b[0m                         Traceback (most recent call last)",
            "\u001b[0;32m<ipython-input-122-33ebb52c2da7>\u001b[0m in \u001b[0;36m<cell line: 20>\u001b[0;34m()\u001b[0m\n\u001b[1;32m     18\u001b[0m   \u001b[0;32mreturn\u001b[0m \u001b[0msender_password\u001b[0m\u001b[0;34m\u001b[0m\u001b[0;34m\u001b[0m\u001b[0m\n\u001b[1;32m     19\u001b[0m \u001b[0;34m\u001b[0m\u001b[0m\n\u001b[0;32m---> 20\u001b[0;31m sender_password = get_password(\"\"\"\n\u001b[0m\u001b[1;32m     21\u001b[0m \u001b[0;34m-\u001b[0m\u001b[0;34m-\u001b[0m\u001b[0;34m-\u001b[0m\u001b[0;34m\u001b[0m\u001b[0;34m\u001b[0m\u001b[0m\n\u001b[1;32m     22\u001b[0m \u001b[0;34m\u001b[0m\u001b[0m\n",
            "\u001b[0;32m<ipython-input-122-33ebb52c2da7>\u001b[0m in \u001b[0;36mget_password\u001b[0;34m(message)\u001b[0m\n\u001b[1;32m     14\u001b[0m         \u001b[0mserver\u001b[0m\u001b[0;34m.\u001b[0m\u001b[0mlogin\u001b[0m\u001b[0;34m(\u001b[0m\u001b[0msender_mail\u001b[0m\u001b[0;34m,\u001b[0m \u001b[0msender_password\u001b[0m\u001b[0;34m)\u001b[0m\u001b[0;34m\u001b[0m\u001b[0;34m\u001b[0m\u001b[0m\n\u001b[1;32m     15\u001b[0m   \u001b[0;32mexcept\u001b[0m\u001b[0;34m:\u001b[0m\u001b[0;34m\u001b[0m\u001b[0;34m\u001b[0m\u001b[0m\n\u001b[0;32m---> 16\u001b[0;31m     \u001b[0mget_password\u001b[0m\u001b[0;34m(\u001b[0m\u001b[0;34m\"Incorrect Password! Type again\"\u001b[0m\u001b[0;34m)\u001b[0m\u001b[0;34m\u001b[0m\u001b[0;34m\u001b[0m\u001b[0m\n\u001b[0m\u001b[1;32m     17\u001b[0m \u001b[0;34m\u001b[0m\u001b[0m\n\u001b[1;32m     18\u001b[0m   \u001b[0;32mreturn\u001b[0m \u001b[0msender_password\u001b[0m\u001b[0;34m\u001b[0m\u001b[0;34m\u001b[0m\u001b[0m\n",
            "\u001b[0;32m<ipython-input-122-33ebb52c2da7>\u001b[0m in \u001b[0;36mget_password\u001b[0;34m(message)\u001b[0m\n\u001b[1;32m      8\u001b[0m \u001b[0;32mdef\u001b[0m \u001b[0mget_password\u001b[0m\u001b[0;34m(\u001b[0m\u001b[0mmessage\u001b[0m\u001b[0;34m)\u001b[0m\u001b[0;34m:\u001b[0m\u001b[0;34m\u001b[0m\u001b[0;34m\u001b[0m\u001b[0m\n\u001b[1;32m      9\u001b[0m \u001b[0;34m\u001b[0m\u001b[0m\n\u001b[0;32m---> 10\u001b[0;31m   \u001b[0msender_password\u001b[0m \u001b[0;34m=\u001b[0m \u001b[0mgetpass\u001b[0m\u001b[0;34m(\u001b[0m\u001b[0mmessage\u001b[0m\u001b[0;34m)\u001b[0m\u001b[0;34m\u001b[0m\u001b[0;34m\u001b[0m\u001b[0m\n\u001b[0m\u001b[1;32m     11\u001b[0m \u001b[0;34m\u001b[0m\u001b[0m\n\u001b[1;32m     12\u001b[0m   \u001b[0;32mtry\u001b[0m\u001b[0;34m:\u001b[0m\u001b[0;34m\u001b[0m\u001b[0;34m\u001b[0m\u001b[0m\n",
            "\u001b[0;32m/usr/local/lib/python3.9/dist-packages/ipykernel/kernelbase.py\u001b[0m in \u001b[0;36mgetpass\u001b[0;34m(self, prompt, stream)\u001b[0m\n\u001b[1;32m    832\u001b[0m             warnings.warn(\"The `stream` parameter of `getpass.getpass` will have no effect when using ipykernel\",\n\u001b[1;32m    833\u001b[0m                     UserWarning, stacklevel=2)\n\u001b[0;32m--> 834\u001b[0;31m         return self._input_request(prompt,\n\u001b[0m\u001b[1;32m    835\u001b[0m             \u001b[0mself\u001b[0m\u001b[0;34m.\u001b[0m\u001b[0m_parent_ident\u001b[0m\u001b[0;34m,\u001b[0m\u001b[0;34m\u001b[0m\u001b[0;34m\u001b[0m\u001b[0m\n\u001b[1;32m    836\u001b[0m             \u001b[0mself\u001b[0m\u001b[0;34m.\u001b[0m\u001b[0m_parent_header\u001b[0m\u001b[0;34m,\u001b[0m\u001b[0;34m\u001b[0m\u001b[0;34m\u001b[0m\u001b[0m\n",
            "\u001b[0;32m/usr/local/lib/python3.9/dist-packages/ipykernel/kernelbase.py\u001b[0m in \u001b[0;36m_input_request\u001b[0;34m(self, prompt, ident, parent, password)\u001b[0m\n\u001b[1;32m    893\u001b[0m             \u001b[0;32mexcept\u001b[0m \u001b[0mKeyboardInterrupt\u001b[0m\u001b[0;34m:\u001b[0m\u001b[0;34m\u001b[0m\u001b[0;34m\u001b[0m\u001b[0m\n\u001b[1;32m    894\u001b[0m                 \u001b[0;31m# re-raise KeyboardInterrupt, to truncate traceback\u001b[0m\u001b[0;34m\u001b[0m\u001b[0;34m\u001b[0m\u001b[0m\n\u001b[0;32m--> 895\u001b[0;31m                 \u001b[0;32mraise\u001b[0m \u001b[0mKeyboardInterrupt\u001b[0m\u001b[0;34m(\u001b[0m\u001b[0;34m\"Interrupted by user\"\u001b[0m\u001b[0;34m)\u001b[0m \u001b[0;32mfrom\u001b[0m \u001b[0;32mNone\u001b[0m\u001b[0;34m\u001b[0m\u001b[0;34m\u001b[0m\u001b[0m\n\u001b[0m\u001b[1;32m    896\u001b[0m             \u001b[0;32mexcept\u001b[0m \u001b[0mException\u001b[0m \u001b[0;32mas\u001b[0m \u001b[0me\u001b[0m\u001b[0;34m:\u001b[0m\u001b[0;34m\u001b[0m\u001b[0;34m\u001b[0m\u001b[0m\n\u001b[1;32m    897\u001b[0m                 \u001b[0mself\u001b[0m\u001b[0;34m.\u001b[0m\u001b[0mlog\u001b[0m\u001b[0;34m.\u001b[0m\u001b[0mwarning\u001b[0m\u001b[0;34m(\u001b[0m\u001b[0;34m\"Invalid Message:\"\u001b[0m\u001b[0;34m,\u001b[0m \u001b[0mexc_info\u001b[0m\u001b[0;34m=\u001b[0m\u001b[0;32mTrue\u001b[0m\u001b[0;34m)\u001b[0m\u001b[0;34m\u001b[0m\u001b[0;34m\u001b[0m\u001b[0m\n",
            "\u001b[0;31mKeyboardInterrupt\u001b[0m: Interrupted by user"
          ]
        }
      ],
      "source": [
        "msg = msgs[0]\n",
        "print(msg.get_body())\n",
        "print(\"<PDF will be attached below>\")\n",
        "\n",
        "from getpass import getpass\n",
        "import smtplib\n",
        "\n",
        "def get_password(message):\n",
        "\n",
        "  sender_password = getpass(message)\n",
        "\n",
        "  try:\n",
        "    with smtplib.SMTP_SSL(\"smtp.gmail.com\", 465) as server:\n",
        "        server.login(sender_mail, sender_password)\n",
        "  except:\n",
        "    get_password(\"Incorrect password! Type again: \")\n",
        "\n",
        "  return sender_password\n",
        "\n",
        "sender_password = get_password(\"\"\"\n",
        "---\n",
        "\n",
        "Do you confirm to send an email like this?\n",
        "If yes, type password: \"\"\")"
      ],
      "id": "n3z0j1JQ-RFX"
    },
    {
      "cell_type": "code",
      "execution_count": null,
      "metadata": {
        "scrolled": true,
        "id": "3nOHAzcw-RFc"
      },
      "outputs": [],
      "source": [
        "import time\n",
        "\n",
        "with smtplib.SMTP_SSL(\"smtp.gmail.com\", 465) as server:\n",
        "    server.login(sender_mail, sender_password)\n",
        "\n",
        "    sent_count = 0\n",
        "    for msg in msgs:\n",
        "        server.send_message(msg)\n",
        "        sent_count += 1\n",
        "\n",
        "        if sent_count % 50 == 0:\n",
        "          time.sleep(100) # 100 sec delay\n",
        "        else:\n",
        "          time.sleep(1) # 1 sec delay\n",
        "\n",
        "    print(\"Done :)\")"
      ],
      "id": "3nOHAzcw-RFc"
    }
  ],
  "metadata": {
    "kernelspec": {
      "display_name": "Python 3",
      "language": "python",
      "name": "python3"
    },
    "language_info": {
      "codemirror_mode": {
        "name": "ipython",
        "version": 3
      },
      "file_extension": ".py",
      "mimetype": "text/x-python",
      "name": "python",
      "nbconvert_exporter": "python",
      "pygments_lexer": "ipython3",
      "version": "3.8.5"
    },
    "colab": {
      "provenance": [],
      "include_colab_link": true
    }
  },
  "nbformat": 4,
  "nbformat_minor": 5
}